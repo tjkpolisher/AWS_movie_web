{
 "cells": [
  {
   "cell_type": "code",
   "execution_count": 1,
   "metadata": {},
   "outputs": [
    {
     "name": "stdout",
     "output_type": "stream",
     "text": [
      "Collecting konlpy\n",
      "  Downloading konlpy-0.6.0-py2.py3-none-any.whl (19.4 MB)\n",
      "     ---------------------------------------- 0.0/19.4 MB ? eta -:--:--\n",
      "     ---------------------------------------- 0.0/19.4 MB ? eta -:--:--\n",
      "     --------------------------------------- 0.0/19.4 MB 435.7 kB/s eta 0:00:45\n",
      "     --------------------------------------- 0.1/19.4 MB 751.6 kB/s eta 0:00:26\n",
      "     ----- ---------------------------------- 2.5/19.4 MB 15.8 MB/s eta 0:00:02\n",
      "     ------------- -------------------------- 6.7/19.4 MB 30.8 MB/s eta 0:00:01\n",
      "     -------------------- ------------------ 10.1/19.4 MB 38.0 MB/s eta 0:00:01\n",
      "     --------------------------- ----------- 13.6/19.4 MB 73.1 MB/s eta 0:00:01\n",
      "     ----------------------------- --------- 14.7/19.4 MB 72.6 MB/s eta 0:00:01\n",
      "     ----------------------------- --------- 14.7/19.4 MB 72.6 MB/s eta 0:00:01\n",
      "     ----------------------------- --------- 14.7/19.4 MB 72.6 MB/s eta 0:00:01\n",
      "     ----------------------------- --------- 14.7/19.4 MB 72.6 MB/s eta 0:00:01\n",
      "     ----------------------------- --------- 14.7/19.4 MB 72.6 MB/s eta 0:00:01\n",
      "     ----------------------------- --------- 14.7/19.4 MB 72.6 MB/s eta 0:00:01\n",
      "     ----------------------------------- --- 17.9/19.4 MB 25.2 MB/s eta 0:00:01\n",
      "     --------------------------------------  19.4/19.4 MB 26.2 MB/s eta 0:00:01\n",
      "     --------------------------------------  19.4/19.4 MB 26.2 MB/s eta 0:00:01\n",
      "     --------------------------------------  19.4/19.4 MB 26.2 MB/s eta 0:00:01\n",
      "     --------------------------------------- 19.4/19.4 MB 19.3 MB/s eta 0:00:00\n",
      "Collecting JPype1>=0.7.0 (from konlpy)\n",
      "  Downloading JPype1-1.4.1-cp310-cp310-win_amd64.whl (345 kB)\n",
      "     ---------------------------------------- 0.0/345.1 kB ? eta -:--:--\n",
      "     ------------------------------------- 345.1/345.1 kB 22.3 MB/s eta 0:00:00\n",
      "Collecting lxml>=4.1.0 (from konlpy)\n",
      "  Obtaining dependency information for lxml>=4.1.0 from https://files.pythonhosted.org/packages/50/ba/cb7bc9728a3be4e00dfd658fc76dc64fd9dbc3d5492ff44cda70574329c6/lxml-4.9.3-cp310-cp310-win_amd64.whl.metadata\n",
      "  Downloading lxml-4.9.3-cp310-cp310-win_amd64.whl.metadata (3.9 kB)\n",
      "Requirement already satisfied: numpy>=1.6 in c:\\users\\tjk\\appdata\\local\\anaconda3\\envs\\movie_env01\\lib\\site-packages (from konlpy) (1.25.2)\n",
      "Requirement already satisfied: packaging in c:\\users\\tjk\\appdata\\local\\anaconda3\\envs\\movie_env01\\lib\\site-packages (from JPype1>=0.7.0->konlpy) (23.1)\n",
      "Downloading lxml-4.9.3-cp310-cp310-win_amd64.whl (3.8 MB)\n",
      "   ---------------------------------------- 0.0/3.8 MB ? eta -:--:--\n",
      "   ---------------------------------------  3.7/3.8 MB 79.1 MB/s eta 0:00:01\n",
      "   ---------------------------------------- 3.8/3.8 MB 48.4 MB/s eta 0:00:00\n",
      "Installing collected packages: lxml, JPype1, konlpy\n",
      "Successfully installed JPype1-1.4.1 konlpy-0.6.0 lxml-4.9.3\n"
     ]
    }
   ],
   "source": [
    "!pip install konlpy"
   ]
  },
  {
   "cell_type": "code",
   "execution_count": 2,
   "metadata": {},
   "outputs": [
    {
     "name": "stdout",
     "output_type": "stream",
     "text": [
      "Collecting Twitter\n",
      "  Using cached twitter-1.19.6-py2.py3-none-any.whl (50 kB)\n",
      "Requirement already satisfied: certifi in c:\\users\\tjk\\appdata\\local\\anaconda3\\envs\\movie_env01\\lib\\site-packages (from Twitter) (2023.7.22)\n",
      "Installing collected packages: Twitter\n",
      "Successfully installed Twitter-1.19.6\n"
     ]
    }
   ],
   "source": [
    "!pip install Twitter"
   ]
  },
  {
   "cell_type": "code",
   "execution_count": 3,
   "metadata": {},
   "outputs": [
    {
     "name": "stdout",
     "output_type": "stream",
     "text": [
      "Collecting tqdm\n",
      "  Obtaining dependency information for tqdm from https://files.pythonhosted.org/packages/00/e5/f12a80907d0884e6dff9c16d0c0114d81b8cd07dc3ae54c5e962cc83037e/tqdm-4.66.1-py3-none-any.whl.metadata\n",
      "  Using cached tqdm-4.66.1-py3-none-any.whl.metadata (57 kB)\n",
      "Requirement already satisfied: colorama in c:\\users\\tjk\\appdata\\local\\anaconda3\\envs\\movie_env01\\lib\\site-packages (from tqdm) (0.4.6)\n",
      "Using cached tqdm-4.66.1-py3-none-any.whl (78 kB)\n",
      "Installing collected packages: tqdm\n",
      "Successfully installed tqdm-4.66.1\n"
     ]
    }
   ],
   "source": [
    "!pip install tqdm"
   ]
  },
  {
   "cell_type": "code",
   "execution_count": 4,
   "metadata": {},
   "outputs": [
    {
     "name": "stdout",
     "output_type": "stream",
     "text": [
      "Collecting gensim\n",
      "  Obtaining dependency information for gensim from https://files.pythonhosted.org/packages/ab/b0/d58dc405fd60ab546ca714321235dc2d455b2dc06bfb4fc1092940c749fc/gensim-4.3.2-cp310-cp310-win_amd64.whl.metadata\n",
      "  Downloading gensim-4.3.2-cp310-cp310-win_amd64.whl.metadata (8.5 kB)\n",
      "Requirement already satisfied: numpy>=1.18.5 in c:\\users\\tjk\\appdata\\local\\anaconda3\\envs\\movie_env01\\lib\\site-packages (from gensim) (1.25.2)\n",
      "Collecting scipy>=1.7.0 (from gensim)\n",
      "  Obtaining dependency information for scipy>=1.7.0 from https://files.pythonhosted.org/packages/70/03/485f73046134400ea25d3cb178c5e6728f9b165f79d09638ecb44ee0e9b1/scipy-1.11.2-cp310-cp310-win_amd64.whl.metadata\n",
      "  Downloading scipy-1.11.2-cp310-cp310-win_amd64.whl.metadata (59 kB)\n",
      "     ---------------------------------------- 0.0/59.1 kB ? eta -:--:--\n",
      "     ---------------------------------------- 0.0/59.1 kB ? eta -:--:--\n",
      "     ------------------- ------------------ 30.7/59.1 kB 660.6 kB/s eta 0:00:01\n",
      "     -------------------------------------- 59.1/59.1 kB 775.6 kB/s eta 0:00:00\n",
      "Collecting smart-open>=1.8.1 (from gensim)\n",
      "  Obtaining dependency information for smart-open>=1.8.1 from https://files.pythonhosted.org/packages/fc/d9/d97f1db64b09278aba64e8c81b5d322d436132df5741c518f3823824fae0/smart_open-6.4.0-py3-none-any.whl.metadata\n",
      "  Downloading smart_open-6.4.0-py3-none-any.whl.metadata (21 kB)\n",
      "Downloading gensim-4.3.2-cp310-cp310-win_amd64.whl (24.0 MB)\n",
      "   ---------------------------------------- 0.0/24.0 MB ? eta -:--:--\n",
      "   - -------------------------------------- 1.1/24.0 MB 24.0 MB/s eta 0:00:01\n",
      "   ----- ---------------------------------- 3.5/24.0 MB 44.4 MB/s eta 0:00:01\n",
      "   ------------- -------------------------- 7.9/24.0 MB 62.8 MB/s eta 0:00:01\n",
      "   ------------------- -------------------- 11.9/24.0 MB 81.8 MB/s eta 0:00:01\n",
      "   -------------------------- ------------- 16.1/24.0 MB 93.9 MB/s eta 0:00:01\n",
      "   ---------------------------------- ----- 20.8/24.0 MB 93.9 MB/s eta 0:00:01\n",
      "   ---------------------------------------  23.9/24.0 MB 93.9 MB/s eta 0:00:01\n",
      "   ---------------------------------------  24.0/24.0 MB 93.9 MB/s eta 0:00:01\n",
      "   ---------------------------------------  24.0/24.0 MB 93.9 MB/s eta 0:00:01\n",
      "   ---------------------------------------  24.0/24.0 MB 93.9 MB/s eta 0:00:01\n",
      "   ---------------------------------------  24.0/24.0 MB 93.9 MB/s eta 0:00:01\n",
      "   ---------------------------------------  24.0/24.0 MB 93.9 MB/s eta 0:00:01\n",
      "   ---------------------------------------- 24.0/24.0 MB 28.5 MB/s eta 0:00:00\n",
      "Downloading scipy-1.11.2-cp310-cp310-win_amd64.whl (44.0 MB)\n",
      "   ---------------------------------------- 0.0/44.0 MB ? eta -:--:--\n",
      "   --- ------------------------------------ 3.9/44.0 MB 124.9 MB/s eta 0:00:01\n",
      "   ------- -------------------------------- 8.6/44.0 MB 110.1 MB/s eta 0:00:01\n",
      "   ----------- ---------------------------- 13.0/44.0 MB 93.0 MB/s eta 0:00:01\n",
      "   -------------- ------------------------- 16.2/44.0 MB 81.8 MB/s eta 0:00:01\n",
      "   ----------------- ---------------------- 19.4/44.0 MB 72.6 MB/s eta 0:00:01\n",
      "   -------------------- ------------------- 22.7/44.0 MB 73.1 MB/s eta 0:00:01\n",
      "   ----------------------- ---------------- 26.3/44.0 MB 73.1 MB/s eta 0:00:01\n",
      "   --------------------------- ------------ 30.1/44.0 MB 73.1 MB/s eta 0:00:01\n",
      "   ------------------------------ --------- 33.8/44.0 MB 81.8 MB/s eta 0:00:01\n",
      "   ---------------------------------- ----- 37.8/44.0 MB 81.8 MB/s eta 0:00:01\n",
      "   -------------------------------------- - 42.1/44.0 MB 81.8 MB/s eta 0:00:01\n",
      "   ---------------------------------------  44.0/44.0 MB 93.9 MB/s eta 0:00:01\n",
      "   ---------------------------------------  44.0/44.0 MB 93.9 MB/s eta 0:00:01\n",
      "   ---------------------------------------  44.0/44.0 MB 93.9 MB/s eta 0:00:01\n",
      "   ---------------------------------------  44.0/44.0 MB 93.9 MB/s eta 0:00:01\n",
      "   ---------------------------------------  44.0/44.0 MB 93.9 MB/s eta 0:00:01\n",
      "   ---------------------------------------  44.0/44.0 MB 93.9 MB/s eta 0:00:01\n",
      "   ---------------------------------------  44.0/44.0 MB 93.9 MB/s eta 0:00:01\n",
      "   ---------------------------------------  44.0/44.0 MB 93.9 MB/s eta 0:00:01\n",
      "   ---------------------------------------- 44.0/44.0 MB 19.8 MB/s eta 0:00:00\n",
      "Downloading smart_open-6.4.0-py3-none-any.whl (57 kB)\n",
      "   ---------------------------------------- 0.0/57.0 kB ? eta -:--:--\n",
      "   ---------------------------------------- 57.0/57.0 kB 3.1 MB/s eta 0:00:00\n",
      "Installing collected packages: smart-open, scipy, gensim\n",
      "Successfully installed gensim-4.3.2 scipy-1.11.2 smart-open-6.4.0\n"
     ]
    },
    {
     "name": "stderr",
     "output_type": "stream",
     "text": [
      "ERROR: pip's dependency resolver does not currently take into account all the packages that are installed. This behaviour is the source of the following dependency conflicts.\n",
      "theano-pymc 1.1.2 requires filelock, which is not installed.\n",
      "arviz 0.12.1 requires matplotlib>=3.0, which is not installed.\n",
      "arviz 0.12.1 requires xarray>=0.16.1, which is not installed.\n",
      "xarray-einstats 0.5.1 requires xarray>=2022.09.0, which is not installed.\n"
     ]
    }
   ],
   "source": [
    "!pip install gensim"
   ]
  },
  {
   "cell_type": "code",
   "execution_count": 5,
   "metadata": {},
   "outputs": [],
   "source": [
    "import os\n",
    "import pymysql\n",
    "import time\n",
    "import numpy as np\n",
    "import pandas as pd\n",
    "from tqdm.notebook import tqdm\n",
    "from gensim.models.word2vec import Word2Vec"
   ]
  },
  {
   "cell_type": "code",
   "execution_count": 6,
   "metadata": {},
   "outputs": [],
   "source": [
    "# 본인 컴퓨터의 자바 설치 경로 설정\n",
    "os.environ[\"JAVA_HOME\"] = \"C:\\Program Files\\Java\\jdk-11\""
   ]
  },
  {
   "cell_type": "code",
   "execution_count": 7,
   "metadata": {},
   "outputs": [
    {
     "data": {
      "text/plain": [
       "'C:\\\\Program Files\\\\Java\\\\jdk-11'"
      ]
     },
     "execution_count": 7,
     "metadata": {},
     "output_type": "execute_result"
    }
   ],
   "source": [
    "os.environ[\"JAVA_HOME\"]"
   ]
  },
  {
   "cell_type": "code",
   "execution_count": 8,
   "metadata": {},
   "outputs": [],
   "source": [
    "from konlpy.tag import Twitter"
   ]
  },
  {
   "cell_type": "code",
   "execution_count": 9,
   "metadata": {},
   "outputs": [
    {
     "name": "stderr",
     "output_type": "stream",
     "text": [
      "c:\\Users\\tjk\\AppData\\Local\\anaconda3\\envs\\movie_env01\\lib\\site-packages\\konlpy\\tag\\_okt.py:17: UserWarning: \"Twitter\" has changed to \"Okt\" since KoNLPy v0.4.5.\n",
      "  warn('\"Twitter\" has changed to \"Okt\" since KoNLPy v0.4.5.')\n"
     ]
    }
   ],
   "source": [
    "# 한국어 문자열을 단어로 나누고 품사를 리턴하는 Twitter() 객체 생성\n",
    "twitter = Twitter()"
   ]
  },
  {
   "cell_type": "code",
   "execution_count": 10,
   "metadata": {},
   "outputs": [
    {
     "data": {
      "text/plain": [
       "[('안녕', 'Noun'),\n",
       " ('하십니까', 'Verb'),\n",
       " ('좋은', 'Adjective'),\n",
       " ('아침', 'Noun'),\n",
       " ('입니다', 'Adjective'),\n",
       " ('.', 'Punctuation'),\n",
       " ('반가워', 'Adjective')]"
      ]
     },
     "execution_count": 10,
     "metadata": {},
     "output_type": "execute_result"
    }
   ],
   "source": [
    "twitter.pos(\"안녕 하십니까 좋은 아침입니다. 반가워\")"
   ]
  },
  {
   "cell_type": "code",
   "execution_count": 11,
   "metadata": {},
   "outputs": [
    {
     "data": {
      "text/plain": [
       "[('안녕', 'Noun'),\n",
       " ('하다', 'Verb'),\n",
       " ('좋다', 'Adjective'),\n",
       " ('아침', 'Noun'),\n",
       " ('이다', 'Adjective'),\n",
       " ('.', 'Punctuation'),\n",
       " ('반갑다', 'Adjective'),\n",
       " ('집', 'Noun'),\n",
       " ('으로', 'Josa'),\n",
       " ('뛰다', 'Verb'),\n",
       " ('가다', 'Verb'),\n",
       " ('정말', 'Noun'),\n",
       " ('참으로', 'Noun'),\n",
       " ('좋다', 'Adjective')]"
      ]
     },
     "execution_count": 11,
     "metadata": {},
     "output_type": "execute_result"
    }
   ],
   "source": [
    "# stem=True: 동사인 하십니까 반가워는 기본 동사형 '안녕하다'와 '반갑다'로 변환\n",
    "twitter.pos(\"안녕 하십니까 좋은 아침입니다. 반가워 집으로 뛰어 갔다 정말 참으로 좋다\", stem=True)"
   ]
  },
  {
   "cell_type": "code",
   "execution_count": 13,
   "metadata": {},
   "outputs": [],
   "source": [
    "# 텍스트 전처리 함수\n",
    "# text는 전처리할 영화 줄거리(synopsys)입니다.\n",
    "def preprocessingText(text):\n",
    "    # 전처리 결과를 저장할 리스트\n",
    "    stems = []\n",
    "    \n",
    "    # text를 단어로 나누고 품사를 붙여서 리턴\n",
    "    tagged_review = twitter.pos(text, stem=True)\n",
    "    \n",
    "    # tagged_review에서 하나를 꺼내서 word, pos에 대입\n",
    "    # 단어는 word에, 품사는 pos에 대입\n",
    "    for word, pos in tagged_review:\n",
    "        if pos == \"Noun\" or pos == \"Adjective\":\n",
    "            stems.append(word)\n",
    "            \n",
    "    return \" \".join(stems)"
   ]
  },
  {
   "cell_type": "code",
   "execution_count": 14,
   "metadata": {},
   "outputs": [
    {
     "data": {
      "text/plain": [
       "'아버지 방 슬프다 배 아프다'"
      ]
     },
     "execution_count": 14,
     "metadata": {},
     "output_type": "execute_result"
    }
   ],
   "source": [
    "# 함수 테스트\n",
    "preprocessingText(\"아버지가 방에 들어가신다 그래서 슬펐다 배가 아파요\")"
   ]
  },
  {
   "cell_type": "code",
   "execution_count": 15,
   "metadata": {},
   "outputs": [],
   "source": [
    "# DB 연결\n",
    "db = pymysql.connect(\n",
    "    host=\"database-1.crcwt5epkeh5.ap-northeast-2.rds.amazonaws.com\",\n",
    "    port=3306,\n",
    "    user='admin',\n",
    "    passwd='password',\n",
    "    db='movie_db',\n",
    "    charset='utf8'\n",
    ")"
   ]
  },
  {
   "cell_type": "code",
   "execution_count": null,
   "metadata": {},
   "outputs": [],
   "source": []
  }
 ],
 "metadata": {
  "kernelspec": {
   "display_name": "movie_env01",
   "language": "python",
   "name": "python3"
  },
  "language_info": {
   "codemirror_mode": {
    "name": "ipython",
    "version": 3
   },
   "file_extension": ".py",
   "mimetype": "text/x-python",
   "name": "python",
   "nbconvert_exporter": "python",
   "pygments_lexer": "ipython3",
   "version": "3.10.12"
  },
  "orig_nbformat": 4
 },
 "nbformat": 4,
 "nbformat_minor": 2
}
